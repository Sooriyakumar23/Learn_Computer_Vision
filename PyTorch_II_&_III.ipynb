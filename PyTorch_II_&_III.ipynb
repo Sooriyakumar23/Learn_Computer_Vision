{
  "nbformat": 4,
  "nbformat_minor": 0,
  "metadata": {
    "colab": {
      "provenance": [],
      "collapsed_sections": [
        "LALqBSN16YzU",
        "xWO4vqrb6bkk",
        "HPQF_mTzJhnC"
      ],
      "gpuType": "T4"
    },
    "kernelspec": {
      "name": "python3",
      "display_name": "Python 3"
    },
    "language_info": {
      "name": "python"
    },
    "accelerator": "GPU"
  },
  "cells": [
    {
      "cell_type": "code",
      "execution_count": 1,
      "metadata": {
        "id": "vbjCRypatk2P"
      },
      "outputs": [],
      "source": [
        "import torch\n",
        "import torch.nn as nn"
      ]
    },
    {
      "cell_type": "markdown",
      "source": [
        "## Sequential Model"
      ],
      "metadata": {
        "id": "LALqBSN16YzU"
      }
    },
    {
      "cell_type": "code",
      "source": [
        "X = torch.randn((10, 20)) # Batch of 10 elements with 20 features"
      ],
      "metadata": {
        "id": "N8R_wqsdII8L"
      },
      "execution_count": 76,
      "outputs": []
    },
    {
      "cell_type": "code",
      "source": [
        "sequential_model = nn.Sequential(\n",
        "    nn.Linear(20, 64),\n",
        "    nn.ReLU(),\n",
        "    nn.Linear(64, 32),\n",
        "    nn.ReLU(),\n",
        "    nn.Linear(32, 5)\n",
        ")\n",
        "\n",
        "print (sequential_model)"
      ],
      "metadata": {
        "colab": {
          "base_uri": "https://localhost:8080/"
        },
        "id": "VEpzeGPpw7A8",
        "outputId": "89734ca5-f538-47c8-e337-148cf9ba33f3"
      },
      "execution_count": 7,
      "outputs": [
        {
          "output_type": "stream",
          "name": "stdout",
          "text": [
            "Sequential(\n",
            "  (0): Linear(in_features=20, out_features=64, bias=True)\n",
            "  (1): ReLU()\n",
            "  (2): Linear(in_features=64, out_features=32, bias=True)\n",
            "  (3): ReLU()\n",
            "  (4): Linear(in_features=32, out_features=5, bias=True)\n",
            ")\n"
          ]
        }
      ]
    },
    {
      "cell_type": "code",
      "source": [
        "y_pred_1 = sequential_model(X)\n",
        "\n",
        "print (y_pred_1)"
      ],
      "metadata": {
        "id": "INMTGu0n05Aa"
      },
      "execution_count": 8,
      "outputs": []
    },
    {
      "cell_type": "markdown",
      "source": [
        "## Functional Model"
      ],
      "metadata": {
        "id": "xWO4vqrb6bkk"
      }
    },
    {
      "cell_type": "code",
      "source": [
        "X = torch.randn((10, 20)) # Batch of 10 elements with 20 features"
      ],
      "metadata": {
        "id": "xGakEUKmIWse"
      },
      "execution_count": 77,
      "outputs": []
    },
    {
      "cell_type": "code",
      "source": [
        "class FunctionalModel(nn.Module):\n",
        "  def __init__(self):\n",
        "    super(FunctionalModel, self).__init__()\n",
        "    self.linear1 = nn.Linear(20, 64)\n",
        "    self.linear2 = nn.Linear(64, 32)\n",
        "    self.linear3 = nn.Linear(32, 5)\n",
        "    self.relu = nn.ReLU()\n",
        "  def forward(self, X):\n",
        "    x = self.linear1(X)\n",
        "    x = self.relu(x)\n",
        "    x = self.linear2(x)\n",
        "    x = self.relu(x)\n",
        "    x = self.linear3(x)\n",
        "    return x"
      ],
      "metadata": {
        "id": "MpkQHHYt6U2U"
      },
      "execution_count": 78,
      "outputs": []
    },
    {
      "cell_type": "code",
      "source": [
        "functional_model = FunctionalModel()\n",
        "\n",
        "print (functional_model)"
      ],
      "metadata": {
        "colab": {
          "base_uri": "https://localhost:8080/"
        },
        "id": "QA05L-rO6iWB",
        "outputId": "caceb3ad-d6dd-40b3-fad1-f90174086fdb"
      },
      "execution_count": 79,
      "outputs": [
        {
          "output_type": "stream",
          "name": "stdout",
          "text": [
            "FunctionalModel(\n",
            "  (linear1): Linear(in_features=20, out_features=64, bias=True)\n",
            "  (linear2): Linear(in_features=64, out_features=32, bias=True)\n",
            "  (linear3): Linear(in_features=32, out_features=5, bias=True)\n",
            "  (relu): ReLU()\n",
            ")\n"
          ]
        }
      ]
    },
    {
      "cell_type": "code",
      "source": [
        "y_pred_2 = functional_model(X)\n",
        "\n",
        "print (y_pred_2)"
      ],
      "metadata": {
        "colab": {
          "base_uri": "https://localhost:8080/"
        },
        "id": "evS4il8_6nut",
        "outputId": "f8949574-8a22-4e73-a927-95f0c5ef40a7"
      },
      "execution_count": 80,
      "outputs": [
        {
          "output_type": "stream",
          "name": "stdout",
          "text": [
            "tensor([[-0.0913, -0.0280,  0.1992,  0.1007, -0.0734],\n",
            "        [-0.0701, -0.0778,  0.1788,  0.0422, -0.1036],\n",
            "        [-0.0977, -0.1770,  0.2507, -0.0224, -0.2034],\n",
            "        [-0.0700, -0.0633,  0.1873, -0.0439, -0.1384],\n",
            "        [ 0.0675, -0.1063,  0.1793,  0.0881, -0.1717],\n",
            "        [-0.0090,  0.0302,  0.2752,  0.1955, -0.0887],\n",
            "        [ 0.0062, -0.1213,  0.1738,  0.2593, -0.0870],\n",
            "        [-0.0068, -0.0931,  0.1267,  0.1528, -0.0729],\n",
            "        [-0.0550, -0.1319,  0.2003,  0.1094, -0.0941],\n",
            "        [-0.0423, -0.0977,  0.2114,  0.1206, -0.0725]],\n",
            "       grad_fn=<AddmmBackward0>)\n"
          ]
        }
      ]
    },
    {
      "cell_type": "markdown",
      "source": [
        "## Simple Linear Regression Model"
      ],
      "metadata": {
        "id": "HPQF_mTzJhnC"
      }
    },
    {
      "cell_type": "code",
      "source": [
        "X = torch.tensor([[1.0], [2.0], [3.0], [4.0], [5.0]])\n",
        "y = torch.tensor([[2.0], [4.0], [6.0], [8.0], [10.0]])"
      ],
      "metadata": {
        "id": "kkzpFSHuJi29"
      },
      "execution_count": 101,
      "outputs": []
    },
    {
      "cell_type": "code",
      "source": [
        "class LinearRegressionModel(nn.Module):\n",
        "  def __init__(self):\n",
        "    super(LinearRegressionModel, self).__init__()\n",
        "    self.linear = nn.Linear(in_features=1, out_features=1)\n",
        "  def forward(self, X):\n",
        "    x = self.linear(X)\n",
        "    return x"
      ],
      "metadata": {
        "id": "drVc_2dsJtVy"
      },
      "execution_count": 102,
      "outputs": []
    },
    {
      "cell_type": "code",
      "source": [
        "linear_regression_model = LinearRegressionModel()\n",
        "\n",
        "print (linear_regression_model)"
      ],
      "metadata": {
        "colab": {
          "base_uri": "https://localhost:8080/"
        },
        "id": "67SMni-tKkTj",
        "outputId": "1894361a-42a5-45b1-865d-34a97217c83b"
      },
      "execution_count": 103,
      "outputs": [
        {
          "output_type": "stream",
          "name": "stdout",
          "text": [
            "LinearRegressionModel(\n",
            "  (linear): Linear(in_features=1, out_features=1, bias=True)\n",
            ")\n"
          ]
        }
      ]
    },
    {
      "cell_type": "code",
      "source": [
        "criterion = nn.MSELoss()\n",
        "\n",
        "optimizer = torch.optim.SGD(linear_regression_model.parameters(), lr=0.011)"
      ],
      "metadata": {
        "id": "DnpMuU84K0e8"
      },
      "execution_count": 104,
      "outputs": []
    },
    {
      "cell_type": "code",
      "source": [
        "num_epochs = 25\n",
        "\n",
        "for epoch in range(num_epochs):\n",
        "    # Forward pass: Compute predicted y\n",
        "    y_pred = linear_regression_model(X)\n",
        "\n",
        "    # Compute loss\n",
        "    loss = criterion(y_pred, y)\n",
        "\n",
        "    # Zero gradients\n",
        "    optimizer.zero_grad()\n",
        "\n",
        "    # Backward pass: Compute gradients\n",
        "    loss.backward()\n",
        "\n",
        "    # Update parameters\n",
        "    optimizer.step()\n",
        "\n",
        "    # Print progress\n",
        "    print(f'Epoch [{epoch + 1}/{num_epochs}], Loss: {loss.item():.4f}')"
      ],
      "metadata": {
        "colab": {
          "base_uri": "https://localhost:8080/"
        },
        "id": "cOiGZkStLaBK",
        "outputId": "7de742fb-f128-43b1-8203-e38433fc1c43"
      },
      "execution_count": 105,
      "outputs": [
        {
          "output_type": "stream",
          "name": "stdout",
          "text": [
            "Epoch [1/25], Loss: 51.1010\n",
            "Epoch [2/25], Loss: 28.0650\n",
            "Epoch [3/25], Loss: 15.4593\n",
            "Epoch [4/25], Loss: 8.5609\n",
            "Epoch [5/25], Loss: 4.7854\n",
            "Epoch [6/25], Loss: 2.7188\n",
            "Epoch [7/25], Loss: 1.5873\n",
            "Epoch [8/25], Loss: 0.9673\n",
            "Epoch [9/25], Loss: 0.6274\n",
            "Epoch [10/25], Loss: 0.4407\n",
            "Epoch [11/25], Loss: 0.3378\n",
            "Epoch [12/25], Loss: 0.2807\n",
            "Epoch [13/25], Loss: 0.2488\n",
            "Epoch [14/25], Loss: 0.2306\n",
            "Epoch [15/25], Loss: 0.2200\n",
            "Epoch [16/25], Loss: 0.2135\n",
            "Epoch [17/25], Loss: 0.2092\n",
            "Epoch [18/25], Loss: 0.2062\n",
            "Epoch [19/25], Loss: 0.2039\n",
            "Epoch [20/25], Loss: 0.2019\n",
            "Epoch [21/25], Loss: 0.2002\n",
            "Epoch [22/25], Loss: 0.1986\n",
            "Epoch [23/25], Loss: 0.1970\n",
            "Epoch [24/25], Loss: 0.1955\n",
            "Epoch [25/25], Loss: 0.1940\n"
          ]
        }
      ]
    },
    {
      "cell_type": "code",
      "source": [
        "print (y_pred)"
      ],
      "metadata": {
        "colab": {
          "base_uri": "https://localhost:8080/"
        },
        "id": "nzRVBUzqL4WI",
        "outputId": "86fa96d1-5687-4ce7-bef6-0f12b4910080"
      },
      "execution_count": 106,
      "outputs": [
        {
          "output_type": "stream",
          "name": "stdout",
          "text": [
            "tensor([[2.7446],\n",
            "        [4.4572],\n",
            "        [6.1698],\n",
            "        [7.8824],\n",
            "        [9.5950]], grad_fn=<AddmmBackward0>)\n"
          ]
        }
      ]
    },
    {
      "cell_type": "markdown",
      "source": [
        "## Simple Multi Class Classification Model"
      ],
      "metadata": {
        "id": "OiF8TWAU9dSS"
      }
    },
    {
      "cell_type": "code",
      "source": [
        "import torch\n",
        "import torch.nn as nn\n",
        "import torch.optim as optim\n",
        "import torch.nn.functional as F\n",
        "\n",
        "from sklearn.datasets import load_iris\n",
        "from sklearn.model_selection import train_test_split\n",
        "from sklearn.preprocessing import StandardScaler"
      ],
      "metadata": {
        "id": "fF1sT73f9ff6"
      },
      "execution_count": 218,
      "outputs": []
    },
    {
      "cell_type": "code",
      "source": [
        "if torch.cuda.is_available():\n",
        "  print (\"GPU\")\n",
        "else:\n",
        "  print (\"CPU\")"
      ],
      "metadata": {
        "colab": {
          "base_uri": "https://localhost:8080/"
        },
        "id": "OKpXvrQo-QID",
        "outputId": "002b7dcf-3d69-40d8-9ad1-ea41f5b51f64"
      },
      "execution_count": 219,
      "outputs": [
        {
          "output_type": "stream",
          "name": "stdout",
          "text": [
            "GPU\n"
          ]
        }
      ]
    },
    {
      "cell_type": "code",
      "source": [
        "device = torch.device(\"cuda\" if torch.cuda.is_available() else \"cuda\")\n",
        "\n",
        "print (device)"
      ],
      "metadata": {
        "colab": {
          "base_uri": "https://localhost:8080/"
        },
        "id": "Hss6MGWr-Z_c",
        "outputId": "6cbf7ce6-54c7-45a9-a085-add8a91a4e58"
      },
      "execution_count": 220,
      "outputs": [
        {
          "output_type": "stream",
          "name": "stdout",
          "text": [
            "cuda\n"
          ]
        }
      ]
    },
    {
      "cell_type": "code",
      "source": [
        "iris = load_iris()\n",
        "\n",
        "X = iris.data\n",
        "y = iris.target"
      ],
      "metadata": {
        "id": "cJAR-cBo9heL"
      },
      "execution_count": 221,
      "outputs": []
    },
    {
      "cell_type": "code",
      "source": [
        "print (iris.feature_names)\n",
        "print (iris.target_names)"
      ],
      "metadata": {
        "colab": {
          "base_uri": "https://localhost:8080/"
        },
        "id": "SANuDDUX9ynS",
        "outputId": "699b816f-dc11-4452-be93-8393e7cb55ba"
      },
      "execution_count": 222,
      "outputs": [
        {
          "output_type": "stream",
          "name": "stdout",
          "text": [
            "['sepal length (cm)', 'sepal width (cm)', 'petal length (cm)', 'petal width (cm)']\n",
            "['setosa' 'versicolor' 'virginica']\n"
          ]
        }
      ]
    },
    {
      "cell_type": "code",
      "source": [
        "X_train, X_test, y_train, y_test = train_test_split(X, y, test_size=0.2, random_state=42)"
      ],
      "metadata": {
        "id": "txYiQa8r94J1"
      },
      "execution_count": 223,
      "outputs": []
    },
    {
      "cell_type": "code",
      "source": [
        "scaler = StandardScaler()\n",
        "X_train = scaler.fit_transform(X_train)\n",
        "X_test = scaler.transform(X_test)"
      ],
      "metadata": {
        "id": "DZogi5Uu-36t"
      },
      "execution_count": 224,
      "outputs": []
    },
    {
      "cell_type": "code",
      "source": [
        "X_train = torch.tensor(X_train, dtype=torch.float32).to(device)\n",
        "X_test = torch.tensor(X_test, dtype=torch.float32).to(device)\n",
        "y_train = torch.tensor(y_train, dtype=torch.long).to(device)\n",
        "y_test = torch.tensor(y_test, dtype=torch.long).to(device)"
      ],
      "metadata": {
        "id": "g8rfpu_DbbTR"
      },
      "execution_count": 225,
      "outputs": []
    },
    {
      "cell_type": "code",
      "source": [
        "print (X_train.shape)\n",
        "print (X_test.shape)"
      ],
      "metadata": {
        "colab": {
          "base_uri": "https://localhost:8080/"
        },
        "id": "ilJwACdo_XzV",
        "outputId": "4f327cb3-b6d8-44c9-fcae-87611a4d7990"
      },
      "execution_count": 226,
      "outputs": [
        {
          "output_type": "stream",
          "name": "stdout",
          "text": [
            "torch.Size([120, 4])\n",
            "torch.Size([30, 4])\n"
          ]
        }
      ]
    },
    {
      "cell_type": "code",
      "source": [
        "class NeuralNet(nn.Module):\n",
        "  def __init__(self, input_size, hidden_size, num_classes):\n",
        "    super(NeuralNet, self).__init__()\n",
        "    self.fc1 = nn.Linear(input_size, hidden_size)\n",
        "    self.fc2 = nn.Linear(hidden_size, num_classes)\n",
        "    self.relu = nn.ReLU()\n",
        "  def forward(self, X):\n",
        "    x = self.relu(self.fc1(X))\n",
        "    x = self.fc2(x)\n",
        "    # x = F.softmax(x, dim=1)\n",
        "    return x"
      ],
      "metadata": {
        "id": "tKm-EiYP_q13"
      },
      "execution_count": 237,
      "outputs": []
    },
    {
      "cell_type": "code",
      "source": [
        "input_size = X_train.shape[1]\n",
        "hidden_size = 100\n",
        "num_classes = len(iris.target_names)\n",
        "\n",
        "print (input_size)\n",
        "print (hidden_size)\n",
        "print (num_classes)"
      ],
      "metadata": {
        "colab": {
          "base_uri": "https://localhost:8080/"
        },
        "id": "rqOwtiEkQkcj",
        "outputId": "f4e2ff20-a02b-448d-ac2f-6707388d7f08"
      },
      "execution_count": 238,
      "outputs": [
        {
          "output_type": "stream",
          "name": "stdout",
          "text": [
            "4\n",
            "100\n",
            "3\n"
          ]
        }
      ]
    },
    {
      "cell_type": "code",
      "source": [
        "neuralNet = NeuralNet(input_size, hidden_size, num_classes).to(device)\n",
        "\n",
        "print (neuralNet)"
      ],
      "metadata": {
        "colab": {
          "base_uri": "https://localhost:8080/"
        },
        "id": "Tn5cCj8BQCuV",
        "outputId": "e454d10f-c548-411d-b942-2069c14221a0"
      },
      "execution_count": 239,
      "outputs": [
        {
          "output_type": "stream",
          "name": "stdout",
          "text": [
            "NeuralNet(\n",
            "  (fc1): Linear(in_features=4, out_features=100, bias=True)\n",
            "  (fc2): Linear(in_features=100, out_features=3, bias=True)\n",
            "  (relu): ReLU()\n",
            ")\n"
          ]
        }
      ]
    },
    {
      "cell_type": "code",
      "source": [
        "num_epochs = 100"
      ],
      "metadata": {
        "id": "KZ_VG7bQbre0"
      },
      "execution_count": 240,
      "outputs": []
    },
    {
      "cell_type": "code",
      "source": [
        "def train_model(X_train, y_train):\n",
        "  criterion = nn.CrossEntropyLoss() # NLLLS(Negative Log Likelihood Loss) + LogSoftmax\n",
        "  optimizer = optim.Adam(neuralNet.parameters(), lr=0.01)\n",
        "\n",
        "  for epoch in range(num_epochs):\n",
        "    y_pred = neuralNet(X_train)\n",
        "    loss = criterion(y_pred, y_train)\n",
        "\n",
        "    optimizer.zero_grad()\n",
        "    loss.backward()\n",
        "    optimizer.step()\n",
        "\n",
        "    print(f'Epoch [{epoch + 1}/{num_epochs}], Loss: {loss.item():.4f}')"
      ],
      "metadata": {
        "id": "obQlNaBoQ_Bx"
      },
      "execution_count": 244,
      "outputs": []
    },
    {
      "cell_type": "code",
      "source": [
        "train_model(X_train, y_train)"
      ],
      "metadata": {
        "colab": {
          "base_uri": "https://localhost:8080/"
        },
        "id": "47lEuOkVSQte",
        "outputId": "c6d8d5ed-0025-4a9f-ab48-30ffbaf14e45"
      },
      "execution_count": 245,
      "outputs": [
        {
          "output_type": "stream",
          "name": "stdout",
          "text": [
            "Epoch [1/100], Loss: 0.0416\n",
            "Epoch [2/100], Loss: 0.0411\n",
            "Epoch [3/100], Loss: 0.0471\n",
            "Epoch [4/100], Loss: 0.0402\n",
            "Epoch [5/100], Loss: 0.0453\n",
            "Epoch [6/100], Loss: 0.0420\n",
            "Epoch [7/100], Loss: 0.0393\n",
            "Epoch [8/100], Loss: 0.0412\n",
            "Epoch [9/100], Loss: 0.0419\n",
            "Epoch [10/100], Loss: 0.0399\n",
            "Epoch [11/100], Loss: 0.0383\n",
            "Epoch [12/100], Loss: 0.0390\n",
            "Epoch [13/100], Loss: 0.0397\n",
            "Epoch [14/100], Loss: 0.0387\n",
            "Epoch [15/100], Loss: 0.0375\n",
            "Epoch [16/100], Loss: 0.0376\n",
            "Epoch [17/100], Loss: 0.0379\n",
            "Epoch [18/100], Loss: 0.0375\n",
            "Epoch [19/100], Loss: 0.0365\n",
            "Epoch [20/100], Loss: 0.0360\n",
            "Epoch [21/100], Loss: 0.0362\n",
            "Epoch [22/100], Loss: 0.0361\n",
            "Epoch [23/100], Loss: 0.0354\n",
            "Epoch [24/100], Loss: 0.0349\n",
            "Epoch [25/100], Loss: 0.0347\n",
            "Epoch [26/100], Loss: 0.0346\n",
            "Epoch [27/100], Loss: 0.0342\n",
            "Epoch [28/100], Loss: 0.0337\n",
            "Epoch [29/100], Loss: 0.0334\n",
            "Epoch [30/100], Loss: 0.0332\n",
            "Epoch [31/100], Loss: 0.0328\n",
            "Epoch [32/100], Loss: 0.0323\n",
            "Epoch [33/100], Loss: 0.0319\n",
            "Epoch [34/100], Loss: 0.0316\n",
            "Epoch [35/100], Loss: 0.0313\n",
            "Epoch [36/100], Loss: 0.0309\n",
            "Epoch [37/100], Loss: 0.0305\n",
            "Epoch [38/100], Loss: 0.0302\n",
            "Epoch [39/100], Loss: 0.0298\n",
            "Epoch [40/100], Loss: 0.0294\n",
            "Epoch [41/100], Loss: 0.0291\n",
            "Epoch [42/100], Loss: 0.0286\n",
            "Epoch [43/100], Loss: 0.0282\n",
            "Epoch [44/100], Loss: 0.0277\n",
            "Epoch [45/100], Loss: 0.0274\n",
            "Epoch [46/100], Loss: 0.0270\n",
            "Epoch [47/100], Loss: 0.0266\n",
            "Epoch [48/100], Loss: 0.0260\n",
            "Epoch [49/100], Loss: 0.0257\n",
            "Epoch [50/100], Loss: 0.0253\n",
            "Epoch [51/100], Loss: 0.0250\n",
            "Epoch [52/100], Loss: 0.0246\n",
            "Epoch [53/100], Loss: 0.0242\n",
            "Epoch [54/100], Loss: 0.0237\n",
            "Epoch [55/100], Loss: 0.0233\n",
            "Epoch [56/100], Loss: 0.0230\n",
            "Epoch [57/100], Loss: 0.0225\n",
            "Epoch [58/100], Loss: 0.0222\n",
            "Epoch [59/100], Loss: 0.0218\n",
            "Epoch [60/100], Loss: 0.0213\n",
            "Epoch [61/100], Loss: 0.0209\n",
            "Epoch [62/100], Loss: 0.0206\n",
            "Epoch [63/100], Loss: 0.0202\n",
            "Epoch [64/100], Loss: 0.0199\n",
            "Epoch [65/100], Loss: 0.0195\n",
            "Epoch [66/100], Loss: 0.0191\n",
            "Epoch [67/100], Loss: 0.0188\n",
            "Epoch [68/100], Loss: 0.0183\n",
            "Epoch [69/100], Loss: 0.0179\n",
            "Epoch [70/100], Loss: 0.0176\n",
            "Epoch [71/100], Loss: 0.0172\n",
            "Epoch [72/100], Loss: 0.0169\n",
            "Epoch [73/100], Loss: 0.0165\n",
            "Epoch [74/100], Loss: 0.0162\n",
            "Epoch [75/100], Loss: 0.0158\n",
            "Epoch [76/100], Loss: 0.0155\n",
            "Epoch [77/100], Loss: 0.0152\n",
            "Epoch [78/100], Loss: 0.0149\n",
            "Epoch [79/100], Loss: 0.0145\n",
            "Epoch [80/100], Loss: 0.0142\n",
            "Epoch [81/100], Loss: 0.0139\n",
            "Epoch [82/100], Loss: 0.0136\n",
            "Epoch [83/100], Loss: 0.0134\n",
            "Epoch [84/100], Loss: 0.0130\n",
            "Epoch [85/100], Loss: 0.0127\n",
            "Epoch [86/100], Loss: 0.0124\n",
            "Epoch [87/100], Loss: 0.0121\n",
            "Epoch [88/100], Loss: 0.0118\n",
            "Epoch [89/100], Loss: 0.0116\n",
            "Epoch [90/100], Loss: 0.0113\n",
            "Epoch [91/100], Loss: 0.0110\n",
            "Epoch [92/100], Loss: 0.0108\n",
            "Epoch [93/100], Loss: 0.0105\n",
            "Epoch [94/100], Loss: 0.0103\n",
            "Epoch [95/100], Loss: 0.0100\n",
            "Epoch [96/100], Loss: 0.0098\n",
            "Epoch [97/100], Loss: 0.0096\n",
            "Epoch [98/100], Loss: 0.0094\n",
            "Epoch [99/100], Loss: 0.0092\n",
            "Epoch [100/100], Loss: 0.0090\n"
          ]
        }
      ]
    },
    {
      "cell_type": "code",
      "source": [
        "neuralNet(X_train)"
      ],
      "metadata": {
        "colab": {
          "base_uri": "https://localhost:8080/"
        },
        "id": "C2R5_Yw9b9Ba",
        "outputId": "88d72c84-b2a1-4a76-f33e-ab1d6d5ee05e"
      },
      "execution_count": 246,
      "outputs": [
        {
          "output_type": "execute_result",
          "data": {
            "text/plain": [
              "tensor([[ 25.8434,   2.5820, -55.8101],\n",
              "        [ 22.5470,   9.1378, -58.2652],\n",
              "        [ -9.1717,   8.0957,  -5.3276],\n",
              "        [ 21.3624,   3.5399, -48.2940],\n",
              "        [ 22.1253,   0.3682, -47.3386],\n",
              "        [-19.2779,   1.4254,   6.8286],\n",
              "        [ -8.0532,   7.0170,  -4.6766],\n",
              "        [ 20.8000,   5.6056, -49.1656],\n",
              "        [ 22.8976,   4.5687, -51.9389],\n",
              "        [ 26.1414,   6.5061, -60.6684],\n",
              "        [-15.8204,   0.2614,   6.7572],\n",
              "        [ -5.1893,   7.9983,  -7.3784],\n",
              "        [-11.0058,   5.9011,  -2.6429],\n",
              "        [ 21.7225,   6.3951, -51.9298],\n",
              "        [ 21.5406,   6.7782, -51.6125],\n",
              "        [ -7.7012,   8.6474,  -6.5597],\n",
              "        [-13.7116,   2.1314,   3.3103],\n",
              "        [-14.4000,  -0.3443,   4.7811],\n",
              "        [ -9.6326,   7.7705,  -4.3456],\n",
              "        [-20.2223,  -4.9219,   8.3879],\n",
              "        [ -6.5874,   8.1039,  -5.0662],\n",
              "        [-25.9505,  -5.2752,  11.1876],\n",
              "        [ -6.9795,   6.7322,  -3.4283],\n",
              "        [ 21.6143,   5.0187, -50.0367],\n",
              "        [-28.0979,  -5.3932,  12.1758],\n",
              "        [ -6.7697,   9.1302,  -6.6865],\n",
              "        [ 20.3056,   5.1713, -47.8317],\n",
              "        [ 21.4681,   4.3191, -49.0478],\n",
              "        [ 20.2364,   5.7152, -48.5752],\n",
              "        [ -9.5587,   6.1583,  -4.2906],\n",
              "        [-16.1110,   1.6016,   5.2458],\n",
              "        [ 20.2862,   3.8879, -46.7515],\n",
              "        [ 16.6577,   3.4711, -40.3140],\n",
              "        [ 16.0599,   4.6517, -39.4343],\n",
              "        [ -8.5316,   7.3461,  -3.2048],\n",
              "        [ 20.3799,   4.9420, -47.7947],\n",
              "        [ -4.8248,   8.6310,  -7.2913],\n",
              "        [-20.6989,  -2.8625,   4.6536],\n",
              "        [ 21.0614,   1.9489, -46.6442],\n",
              "        [ -7.9743,   7.5773,  -3.8261],\n",
              "        [-18.1844,  -1.0529,   9.3168],\n",
              "        [ 24.8045,   7.8981, -59.8516],\n",
              "        [-11.5777,   1.1196,   3.8590],\n",
              "        [-15.8204,   0.2614,   6.7572],\n",
              "        [-11.8587,   9.6091,  -4.7419],\n",
              "        [ -6.4722,   6.8600,  -3.9655],\n",
              "        [-13.9013,  -1.7208,   5.1266],\n",
              "        [-11.8299,   6.3971,  -1.0724],\n",
              "        [ 20.3105,   6.8451, -49.8582],\n",
              "        [ -6.1507,   6.4132,  -6.8821],\n",
              "        [-18.4138,  -0.9213,   8.0900],\n",
              "        [ 20.3595,   3.9614, -46.7877],\n",
              "        [ 20.1585,   3.6223, -46.1600],\n",
              "        [ -8.7226,   8.3180,  -4.9946],\n",
              "        [-14.2846,   3.2940,   1.3146],\n",
              "        [ 18.5152,   3.2276, -43.1841],\n",
              "        [-18.4005,  -5.2518,  13.0396],\n",
              "        [ 20.8420,   4.5031, -48.1938],\n",
              "        [ 17.5906,   4.2309, -41.8310],\n",
              "        [ -9.0519,   3.6525,  -0.4930],\n",
              "        [ -4.3516,   6.2194,  -8.1896],\n",
              "        [-19.6722,  -4.2021,   9.3026],\n",
              "        [-14.3163,   3.6285,   2.6730],\n",
              "        [-16.3679,   1.4823,   4.7241],\n",
              "        [-26.1005,  -4.2415,  10.6510],\n",
              "        [ -9.7435,   7.0536,  -2.5122],\n",
              "        [ 18.7455,  -0.3705, -41.3327],\n",
              "        [ 22.1998,  -1.0636, -46.7245],\n",
              "        [-19.1848,   2.5838,   5.9111],\n",
              "        [-18.5465,  -1.4906,   5.3448],\n",
              "        [ 19.6724,   1.5050, -43.9895],\n",
              "        [ 20.6931,   4.8589, -48.1318],\n",
              "        [ 20.1381,  -0.2851, -43.6018],\n",
              "        [-15.9904,   5.0394,   2.0000],\n",
              "        [-15.7229,  -3.4885,   7.3105],\n",
              "        [ 21.9072,   2.4268, -48.3749],\n",
              "        [-19.1215,  -2.0968,   7.8746],\n",
              "        [-18.8395,  -6.8668,  11.9364],\n",
              "        [ 21.0739,   2.4656, -46.9599],\n",
              "        [ -9.8793,   4.8945,  -0.4939],\n",
              "        [-12.4963,   5.3200,  -0.1160],\n",
              "        [-14.4143,   1.5466,   4.7024],\n",
              "        [-10.6348,   7.0514,  -4.7886],\n",
              "        [-16.5301,  -3.2620,   8.3463],\n",
              "        [ 23.2410,   5.6008, -53.8414],\n",
              "        [-18.1942,  -1.4502,   6.5627],\n",
              "        [ -7.1267,   6.4183,  -2.9342],\n",
              "        [-16.2720,  -0.7586,   6.2557],\n",
              "        [ -5.7370,   9.8587,  -8.8791],\n",
              "        [ -7.4995,   5.1809,  -2.0549],\n",
              "        [ -8.4362,   5.7442,  -2.1346],\n",
              "        [ 10.8047,   0.2075, -29.9167],\n",
              "        [-10.5318,   6.8526,  -3.1166],\n",
              "        [ -9.3626,   6.4506,  -2.3720],\n",
              "        [ 22.0245,   6.3251, -52.0141],\n",
              "        [ -5.0587,   8.3281,  -6.6692],\n",
              "        [-22.8461,  -3.1151,   8.7140],\n",
              "        [-16.5512,  -2.2993,   6.3495],\n",
              "        [ 20.9586,   5.1351, -49.0350],\n",
              "        [ -4.8277,   5.4141,  -7.4529],\n",
              "        [-19.4558,  -5.6906,  10.7522],\n",
              "        [-18.6337,   0.1552,   4.2398],\n",
              "        [ 24.2161,   4.3448, -54.2933],\n",
              "        [-20.3125,  -5.1537,  11.1429],\n",
              "        [ 17.7772,   2.9120, -41.8364],\n",
              "        [-12.5122,   5.1618,  -1.9070],\n",
              "        [-24.1660,  -2.4059,   8.8846],\n",
              "        [-16.2569,  -1.4993,   7.2733],\n",
              "        [ -7.4291,   8.2402,  -4.5854],\n",
              "        [-15.7659,  -0.2224,   5.2588],\n",
              "        [-15.0961,   7.9754,  -0.8129],\n",
              "        [ -8.6623,   7.9518,  -4.2356],\n",
              "        [-14.2128,  -0.3683,   7.0389],\n",
              "        [-12.1386,   0.2551,   4.7430],\n",
              "        [ 18.2722,   6.2811, -45.4140],\n",
              "        [ -7.8812,   8.7024,  -4.6680],\n",
              "        [-12.4641,  -0.8884,   6.4809],\n",
              "        [ 22.8560,   8.6739, -56.4158],\n",
              "        [ -8.7090,   9.0031,  -4.8645],\n",
              "        [-21.5185,  -3.1051,   8.9301]], device='cuda:0',\n",
              "       grad_fn=<AddmmBackward0>)"
            ]
          },
          "metadata": {},
          "execution_count": 246
        }
      ]
    }
  ]
}