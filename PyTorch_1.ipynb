{
  "nbformat": 4,
  "nbformat_minor": 0,
  "metadata": {
    "colab": {
      "provenance": [],
      "collapsed_sections": [
        "7LRSrSCaY8Cx",
        "wILFy9Ivn1g-",
        "70L68o2JtcZp",
        "CxPteUnouVyp",
        "tC74tmL_w0_X",
        "HLRAOt-E2QWI",
        "t2AUN8uayNFS",
        "qSGXod-Xx6FA",
        "tijPHNLYAy54"
      ],
      "gpuType": "T4"
    },
    "kernelspec": {
      "name": "python3",
      "display_name": "Python 3"
    },
    "language_info": {
      "name": "python"
    },
    "accelerator": "GPU"
  },
  "cells": [
    {
      "cell_type": "code",
      "source": [
        "!nvidia-smi"
      ],
      "metadata": {
        "colab": {
          "base_uri": "https://localhost:8080/"
        },
        "id": "MH46P6OqYG1R",
        "outputId": "49e7c6e7-2f2f-4bef-bcd3-2b39be6e3063"
      },
      "execution_count": 133,
      "outputs": [
        {
          "output_type": "stream",
          "name": "stdout",
          "text": [
            "Sun Dec 15 19:56:28 2024       \n",
            "+---------------------------------------------------------------------------------------+\n",
            "| NVIDIA-SMI 535.104.05             Driver Version: 535.104.05   CUDA Version: 12.2     |\n",
            "|-----------------------------------------+----------------------+----------------------+\n",
            "| GPU  Name                 Persistence-M | Bus-Id        Disp.A | Volatile Uncorr. ECC |\n",
            "| Fan  Temp   Perf          Pwr:Usage/Cap |         Memory-Usage | GPU-Util  Compute M. |\n",
            "|                                         |                      |               MIG M. |\n",
            "|=========================================+======================+======================|\n",
            "|   0  Tesla T4                       Off | 00000000:00:04.0 Off |                    0 |\n",
            "| N/A   35C    P8               9W /  70W |      0MiB / 15360MiB |      0%      Default |\n",
            "|                                         |                      |                  N/A |\n",
            "+-----------------------------------------+----------------------+----------------------+\n",
            "                                                                                         \n",
            "+---------------------------------------------------------------------------------------+\n",
            "| Processes:                                                                            |\n",
            "|  GPU   GI   CI        PID   Type   Process name                            GPU Memory |\n",
            "|        ID   ID                                                             Usage      |\n",
            "|=======================================================================================|\n",
            "|  No running processes found                                                           |\n",
            "+---------------------------------------------------------------------------------------+\n"
          ]
        }
      ]
    },
    {
      "cell_type": "code",
      "source": [
        "import torch"
      ],
      "metadata": {
        "id": "mPD3HrRKYRYK"
      },
      "execution_count": 134,
      "outputs": []
    },
    {
      "cell_type": "code",
      "source": [
        "print (torch.__version__)"
      ],
      "metadata": {
        "colab": {
          "base_uri": "https://localhost:8080/"
        },
        "id": "UiFc0dI5YdFA",
        "outputId": "5eb8f3db-201b-4f8f-b085-b3922c94388c"
      },
      "execution_count": 135,
      "outputs": [
        {
          "output_type": "stream",
          "name": "stdout",
          "text": [
            "2.5.1+cu121\n"
          ]
        }
      ]
    },
    {
      "cell_type": "markdown",
      "source": [
        "### Introduction to Tensors"
      ],
      "metadata": {
        "id": "7LRSrSCaY8Cx"
      }
    },
    {
      "cell_type": "markdown",
      "source": [
        "Scalar"
      ],
      "metadata": {
        "id": "TwOBACmVc4Wf"
      }
    },
    {
      "cell_type": "code",
      "source": [
        "scalar = torch.tensor(5)\n",
        "\n",
        "print (\"tensor :\", scalar)\n",
        "print (\"tensor item :\", scalar.item())\n",
        "print (\"Dimension :\", scalar.ndim)\n",
        "print (\"Shape :\", scalar.shape)"
      ],
      "metadata": {
        "colab": {
          "base_uri": "https://localhost:8080/"
        },
        "id": "f8NvsOw3Yi5N",
        "outputId": "5edc8c5f-268a-4f2d-af99-e4ddc7f7528d"
      },
      "execution_count": 136,
      "outputs": [
        {
          "output_type": "stream",
          "name": "stdout",
          "text": [
            "tensor : tensor(5)\n",
            "tensor item : 5\n",
            "Dimension : 0\n",
            "Shape : torch.Size([])\n"
          ]
        }
      ]
    },
    {
      "cell_type": "markdown",
      "source": [
        "Vector"
      ],
      "metadata": {
        "id": "xGDN9UsNc7h8"
      }
    },
    {
      "cell_type": "code",
      "source": [
        "vector = torch.tensor([1, 2, 3, 4, 5, 6])\n",
        "\n",
        "print (\"tensor :\", vector)\n",
        "print (\"second tensor item :\", vector[1].item())\n",
        "print (\"Dimension :\", vector.ndim)\n",
        "print (\"Shape :\", vector.shape)"
      ],
      "metadata": {
        "colab": {
          "base_uri": "https://localhost:8080/"
        },
        "id": "mzKySta2bbLL",
        "outputId": "1b231242-86d5-44d8-99a7-7a3f5dbbb23f"
      },
      "execution_count": 137,
      "outputs": [
        {
          "output_type": "stream",
          "name": "stdout",
          "text": [
            "tensor : tensor([1, 2, 3, 4, 5, 6])\n",
            "second tensor item : 2\n",
            "Dimension : 1\n",
            "Shape : torch.Size([6])\n"
          ]
        }
      ]
    },
    {
      "cell_type": "markdown",
      "source": [
        "Matrix"
      ],
      "metadata": {
        "id": "x2nEqErsc9Go"
      }
    },
    {
      "cell_type": "code",
      "source": [
        "matrix = torch.tensor([\n",
        "                        [1, 2, 3],\n",
        "                        [4, 5, 6]\n",
        "                      ])\n",
        "\n",
        "print (\"tensor :\", matrix)\n",
        "print (\"second tensor item :\", matrix[1][0].item())\n",
        "print (\"Dimension :\", matrix.ndim)\n",
        "print (\"Shape :\", matrix.shape)"
      ],
      "metadata": {
        "colab": {
          "base_uri": "https://localhost:8080/"
        },
        "id": "QobfjS2AbtOa",
        "outputId": "c7d49db9-6644-42df-f1d2-801ae2fdf3a7"
      },
      "execution_count": 138,
      "outputs": [
        {
          "output_type": "stream",
          "name": "stdout",
          "text": [
            "tensor : tensor([[1, 2, 3],\n",
            "        [4, 5, 6]])\n",
            "second tensor item : 4\n",
            "Dimension : 2\n",
            "Shape : torch.Size([2, 3])\n"
          ]
        }
      ]
    },
    {
      "cell_type": "markdown",
      "source": [
        "N-Dimension"
      ],
      "metadata": {
        "id": "CgtwiGXxednB"
      }
    },
    {
      "cell_type": "code",
      "source": [
        "tensor = torch.tensor([\n",
        "                        [\n",
        "                          [1, 2],\n",
        "                          [3, 4]\n",
        "                        ],\n",
        "                        [\n",
        "                          [11, 12],\n",
        "                          [13, 14]\n",
        "                        ]\n",
        "                       ])\n",
        "\n",
        "print (\"tensor :\", tensor)\n",
        "print (\"second tensor item :\", tensor[0][0][1].item())\n",
        "print (\"Dimension :\", tensor.ndim)\n",
        "print (\"Shape :\", tensor.shape)"
      ],
      "metadata": {
        "colab": {
          "base_uri": "https://localhost:8080/"
        },
        "id": "ZQV-rZTzdUzr",
        "outputId": "df63dde9-f760-4719-82f7-3cd8c8dbc818"
      },
      "execution_count": 139,
      "outputs": [
        {
          "output_type": "stream",
          "name": "stdout",
          "text": [
            "tensor : tensor([[[ 1,  2],\n",
            "         [ 3,  4]],\n",
            "\n",
            "        [[11, 12],\n",
            "         [13, 14]]])\n",
            "second tensor item : 2\n",
            "Dimension : 3\n",
            "Shape : torch.Size([2, 2, 2])\n"
          ]
        }
      ]
    },
    {
      "cell_type": "code",
      "source": [
        "tensor[0, :]"
      ],
      "metadata": {
        "colab": {
          "base_uri": "https://localhost:8080/"
        },
        "id": "-K0g31nwkPBc",
        "outputId": "f0b30821-f20a-4801-b1b8-8780d03f41d5"
      },
      "execution_count": 140,
      "outputs": [
        {
          "output_type": "execute_result",
          "data": {
            "text/plain": [
              "tensor([[1, 2],\n",
              "        [3, 4]])"
            ]
          },
          "metadata": {},
          "execution_count": 140
        }
      ]
    },
    {
      "cell_type": "code",
      "source": [
        "tensor[0]"
      ],
      "metadata": {
        "colab": {
          "base_uri": "https://localhost:8080/"
        },
        "id": "QlOxSb4qm5UQ",
        "outputId": "52535517-d87b-4172-8454-7fba08de727a"
      },
      "execution_count": 141,
      "outputs": [
        {
          "output_type": "execute_result",
          "data": {
            "text/plain": [
              "tensor([[1, 2],\n",
              "        [3, 4]])"
            ]
          },
          "metadata": {},
          "execution_count": 141
        }
      ]
    },
    {
      "cell_type": "code",
      "source": [
        "tensor[0, 1]"
      ],
      "metadata": {
        "colab": {
          "base_uri": "https://localhost:8080/"
        },
        "id": "QOgm8BoWlHIF",
        "outputId": "062f6235-4083-4977-8611-b6847e0d408e"
      },
      "execution_count": 142,
      "outputs": [
        {
          "output_type": "execute_result",
          "data": {
            "text/plain": [
              "tensor([3, 4])"
            ]
          },
          "metadata": {},
          "execution_count": 142
        }
      ]
    },
    {
      "cell_type": "code",
      "source": [
        "tensor[0, 1, :]"
      ],
      "metadata": {
        "colab": {
          "base_uri": "https://localhost:8080/"
        },
        "id": "TGmK2Df6mtzl",
        "outputId": "711f82ad-ca46-466e-faa4-57a76c2ccb6a"
      },
      "execution_count": 143,
      "outputs": [
        {
          "output_type": "execute_result",
          "data": {
            "text/plain": [
              "tensor([3, 4])"
            ]
          },
          "metadata": {},
          "execution_count": 143
        }
      ]
    },
    {
      "cell_type": "markdown",
      "source": [
        "tensor[piece, row, column]\n",
        "\n",
        ": means everything"
      ],
      "metadata": {
        "id": "J8HbpH6Qmgla"
      }
    },
    {
      "cell_type": "code",
      "source": [
        "tensor[1, :, 1]"
      ],
      "metadata": {
        "colab": {
          "base_uri": "https://localhost:8080/"
        },
        "id": "48zjY05RlccQ",
        "outputId": "ef7daea5-f730-4f55-9e50-2ebf32797726"
      },
      "execution_count": 144,
      "outputs": [
        {
          "output_type": "execute_result",
          "data": {
            "text/plain": [
              "tensor([12, 14])"
            ]
          },
          "metadata": {},
          "execution_count": 144
        }
      ]
    },
    {
      "cell_type": "markdown",
      "source": [
        "##Random Numbers"
      ],
      "metadata": {
        "id": "wILFy9Ivn1g-"
      }
    },
    {
      "cell_type": "code",
      "source": [
        "random_numbers = torch.rand(size=(130, 150, 3))\n",
        "\n",
        "print (random_numbers)\n",
        "print (random_numbers.ndim)\n",
        "print (random_numbers.shape)"
      ],
      "metadata": {
        "colab": {
          "base_uri": "https://localhost:8080/"
        },
        "id": "dnMsqQtdli90",
        "outputId": "afd833a2-6850-44a1-d13c-52683ccb83a6"
      },
      "execution_count": 145,
      "outputs": [
        {
          "output_type": "stream",
          "name": "stdout",
          "text": [
            "tensor([[[0.2622, 0.9835, 0.1766],\n",
            "         [0.0881, 0.3434, 0.7899],\n",
            "         [0.1611, 0.5435, 0.0880],\n",
            "         ...,\n",
            "         [0.6512, 0.0803, 0.5835],\n",
            "         [0.3673, 0.1326, 0.8783],\n",
            "         [0.7649, 0.7876, 0.7234]],\n",
            "\n",
            "        [[0.9833, 0.9855, 0.9310],\n",
            "         [0.9577, 0.0200, 0.8131],\n",
            "         [0.9155, 0.1157, 0.5716],\n",
            "         ...,\n",
            "         [0.9261, 0.4453, 0.5770],\n",
            "         [0.6039, 0.4277, 0.8699],\n",
            "         [0.1899, 0.3950, 0.5571]],\n",
            "\n",
            "        [[0.3651, 0.0935, 0.0751],\n",
            "         [0.4851, 0.0980, 0.1870],\n",
            "         [0.9163, 0.8564, 0.4857],\n",
            "         ...,\n",
            "         [0.5779, 0.7734, 0.9958],\n",
            "         [0.3213, 0.4143, 0.2392],\n",
            "         [0.9385, 0.6734, 0.9001]],\n",
            "\n",
            "        ...,\n",
            "\n",
            "        [[0.4986, 0.4212, 0.8012],\n",
            "         [0.7251, 0.3584, 0.1805],\n",
            "         [0.2521, 0.8304, 0.8151],\n",
            "         ...,\n",
            "         [0.9670, 0.3491, 0.3305],\n",
            "         [0.4947, 0.6041, 0.2292],\n",
            "         [0.4815, 0.6228, 0.4251]],\n",
            "\n",
            "        [[0.3888, 0.8870, 0.8225],\n",
            "         [0.3754, 0.4405, 0.4035],\n",
            "         [0.3556, 0.8751, 0.0438],\n",
            "         ...,\n",
            "         [0.5043, 0.0980, 0.7698],\n",
            "         [0.0268, 0.7501, 0.5655],\n",
            "         [0.7777, 0.7474, 0.0702]],\n",
            "\n",
            "        [[0.0148, 0.4971, 0.7501],\n",
            "         [0.1475, 0.7747, 0.1713],\n",
            "         [0.7775, 0.0798, 0.9547],\n",
            "         ...,\n",
            "         [0.2684, 0.1129, 0.9492],\n",
            "         [0.8417, 0.7659, 0.8091],\n",
            "         [0.8391, 0.2163, 0.4630]]])\n",
            "3\n",
            "torch.Size([130, 150, 3])\n"
          ]
        }
      ]
    },
    {
      "cell_type": "code",
      "source": [
        "from google.colab.patches import cv2_imshow # Library to show image"
      ],
      "metadata": {
        "id": "xmU_dTiIoZJa"
      },
      "execution_count": 146,
      "outputs": []
    },
    {
      "cell_type": "code",
      "source": [
        "random_numbers_np = random_numbers.numpy()\n",
        "print (random_numbers_np)\n",
        "\n",
        "cv2_imshow(random_numbers_np)\n",
        "\n",
        "cv2_imshow(random_numbers_np*255)\n",
        "\n",
        "cv2_imshow(random_numbers_np*500)\n",
        "\n",
        "cv2_imshow(random_numbers_np*500000)"
      ],
      "metadata": {
        "colab": {
          "base_uri": "https://localhost:8080/",
          "height": 0
        },
        "id": "MdyuuQedpFKq",
        "outputId": "cba03ba1-fb32-4264-fa61-e3f933b36edb"
      },
      "execution_count": 147,
      "outputs": [
        {
          "output_type": "stream",
          "name": "stdout",
          "text": [
            "[[[0.26223302 0.9834579  0.17659861]\n",
            "  [0.08811104 0.343382   0.78991246]\n",
            "  [0.1610868  0.54351354 0.08802682]\n",
            "  ...\n",
            "  [0.6512052  0.08027411 0.58354014]\n",
            "  [0.36731046 0.13259333 0.87830263]\n",
            "  [0.76493496 0.787646   0.72341645]]\n",
            "\n",
            " [[0.9832862  0.9854894  0.93103886]\n",
            "  [0.9576695  0.0200302  0.81305665]\n",
            "  [0.91546124 0.11573303 0.57160443]\n",
            "  ...\n",
            "  [0.926066   0.44525826 0.57703435]\n",
            "  [0.60392267 0.42770624 0.8698876 ]\n",
            "  [0.18992311 0.39495456 0.5570617 ]]\n",
            "\n",
            " [[0.36510986 0.09348869 0.0751127 ]\n",
            "  [0.48508537 0.0979917  0.1869626 ]\n",
            "  [0.91628003 0.8563895  0.48571038]\n",
            "  ...\n",
            "  [0.57785356 0.7733786  0.9958415 ]\n",
            "  [0.32125872 0.41426206 0.2392137 ]\n",
            "  [0.93854415 0.6734269  0.9000883 ]]\n",
            "\n",
            " ...\n",
            "\n",
            " [[0.4986329  0.42122787 0.80116004]\n",
            "  [0.7251146  0.35835338 0.18050474]\n",
            "  [0.25205678 0.8304495  0.81511366]\n",
            "  ...\n",
            "  [0.96699214 0.34906888 0.33054823]\n",
            "  [0.49470186 0.6040924  0.22919011]\n",
            "  [0.48151124 0.6228116  0.4251489 ]]\n",
            "\n",
            " [[0.3887698  0.8869921  0.82252085]\n",
            "  [0.37541693 0.44049567 0.40352333]\n",
            "  [0.35560548 0.87511724 0.04376143]\n",
            "  ...\n",
            "  [0.5043175  0.09800357 0.7697639 ]\n",
            "  [0.02679253 0.75008553 0.5655383 ]\n",
            "  [0.7776888  0.7473791  0.07015264]]\n",
            "\n",
            " [[0.01478076 0.49711782 0.7501349 ]\n",
            "  [0.14752066 0.7746575  0.17126888]\n",
            "  [0.7774794  0.07977211 0.9547296 ]\n",
            "  ...\n",
            "  [0.26838052 0.11290622 0.94918257]\n",
            "  [0.84169286 0.7659372  0.8091063 ]\n",
            "  [0.8390646  0.21633905 0.46303493]]]\n"
          ]
        },
        {
          "output_type": "display_data",
          "data": {
            "text/plain": [
              "<PIL.Image.Image image mode=RGB size=150x130>"
            ],
            "image/png": "[encoded data removed]",
            "image/jpeg": "[encoded data removed]"
          },
          "metadata": {}
        },
        {
          "output_type": "display_data",
          "data": {
            "text/plain": [
              "<PIL.Image.Image image mode=RGB size=150x130>"
            ],
            "image/png": "[encoded data removed]",
            "image/jpeg": "[encoded data removed]"
          },
          "metadata": {}
        },
        {
          "output_type": "display_data",
          "data": {
            "text/plain": [
              "<PIL.Image.Image image mode=RGB size=150x130>"
            ],
            "image/png": "[encoded data removed]",
            "image/jpeg": "[encoded data removed]"
          },
          "metadata": {}
        },
        {
          "output_type": "display_data",
          "data": {
            "text/plain": [
              "<PIL.Image.Image image mode=RGB size=150x130>"
            ],
            "image/png": "[encoded data removed]",
            "image/jpeg": "[encoded data removed]"
          },
          "metadata": {}
        }
      ]
    },
    {
      "cell_type": "markdown",
      "source": [
        "##Zeros and Ones"
      ],
      "metadata": {
        "id": "70L68o2JtcZp"
      }
    },
    {
      "cell_type": "code",
      "source": [
        "zeros = torch.zeros(size=(130, 150, 3))\n",
        "\n",
        "print (zeros)\n",
        "print (zeros.ndim)\n",
        "print (zeros.shape)\n",
        "print (zeros.dtype)"
      ],
      "metadata": {
        "colab": {
          "base_uri": "https://localhost:8080/"
        },
        "id": "qJUAskhIpg_E",
        "outputId": "886228df-517b-4da0-da4d-01f679e5f77b"
      },
      "execution_count": 148,
      "outputs": [
        {
          "output_type": "stream",
          "name": "stdout",
          "text": [
            "tensor([[[0., 0., 0.],\n",
            "         [0., 0., 0.],\n",
            "         [0., 0., 0.],\n",
            "         ...,\n",
            "         [0., 0., 0.],\n",
            "         [0., 0., 0.],\n",
            "         [0., 0., 0.]],\n",
            "\n",
            "        [[0., 0., 0.],\n",
            "         [0., 0., 0.],\n",
            "         [0., 0., 0.],\n",
            "         ...,\n",
            "         [0., 0., 0.],\n",
            "         [0., 0., 0.],\n",
            "         [0., 0., 0.]],\n",
            "\n",
            "        [[0., 0., 0.],\n",
            "         [0., 0., 0.],\n",
            "         [0., 0., 0.],\n",
            "         ...,\n",
            "         [0., 0., 0.],\n",
            "         [0., 0., 0.],\n",
            "         [0., 0., 0.]],\n",
            "\n",
            "        ...,\n",
            "\n",
            "        [[0., 0., 0.],\n",
            "         [0., 0., 0.],\n",
            "         [0., 0., 0.],\n",
            "         ...,\n",
            "         [0., 0., 0.],\n",
            "         [0., 0., 0.],\n",
            "         [0., 0., 0.]],\n",
            "\n",
            "        [[0., 0., 0.],\n",
            "         [0., 0., 0.],\n",
            "         [0., 0., 0.],\n",
            "         ...,\n",
            "         [0., 0., 0.],\n",
            "         [0., 0., 0.],\n",
            "         [0., 0., 0.]],\n",
            "\n",
            "        [[0., 0., 0.],\n",
            "         [0., 0., 0.],\n",
            "         [0., 0., 0.],\n",
            "         ...,\n",
            "         [0., 0., 0.],\n",
            "         [0., 0., 0.],\n",
            "         [0., 0., 0.]]])\n",
            "3\n",
            "torch.Size([130, 150, 3])\n",
            "torch.float32\n"
          ]
        }
      ]
    },
    {
      "cell_type": "code",
      "source": [
        "ones = torch.ones(size=(130, 150, 3))\n",
        "\n",
        "print (ones)\n",
        "print (ones.ndim)\n",
        "print (ones.shape)\n",
        "print (ones.dtype)"
      ],
      "metadata": {
        "colab": {
          "base_uri": "https://localhost:8080/"
        },
        "id": "oUPIbGMTtq21",
        "outputId": "190a095f-4ab9-40c5-d21d-e5211a212679"
      },
      "execution_count": 149,
      "outputs": [
        {
          "output_type": "stream",
          "name": "stdout",
          "text": [
            "tensor([[[1., 1., 1.],\n",
            "         [1., 1., 1.],\n",
            "         [1., 1., 1.],\n",
            "         ...,\n",
            "         [1., 1., 1.],\n",
            "         [1., 1., 1.],\n",
            "         [1., 1., 1.]],\n",
            "\n",
            "        [[1., 1., 1.],\n",
            "         [1., 1., 1.],\n",
            "         [1., 1., 1.],\n",
            "         ...,\n",
            "         [1., 1., 1.],\n",
            "         [1., 1., 1.],\n",
            "         [1., 1., 1.]],\n",
            "\n",
            "        [[1., 1., 1.],\n",
            "         [1., 1., 1.],\n",
            "         [1., 1., 1.],\n",
            "         ...,\n",
            "         [1., 1., 1.],\n",
            "         [1., 1., 1.],\n",
            "         [1., 1., 1.]],\n",
            "\n",
            "        ...,\n",
            "\n",
            "        [[1., 1., 1.],\n",
            "         [1., 1., 1.],\n",
            "         [1., 1., 1.],\n",
            "         ...,\n",
            "         [1., 1., 1.],\n",
            "         [1., 1., 1.],\n",
            "         [1., 1., 1.]],\n",
            "\n",
            "        [[1., 1., 1.],\n",
            "         [1., 1., 1.],\n",
            "         [1., 1., 1.],\n",
            "         ...,\n",
            "         [1., 1., 1.],\n",
            "         [1., 1., 1.],\n",
            "         [1., 1., 1.]],\n",
            "\n",
            "        [[1., 1., 1.],\n",
            "         [1., 1., 1.],\n",
            "         [1., 1., 1.],\n",
            "         ...,\n",
            "         [1., 1., 1.],\n",
            "         [1., 1., 1.],\n",
            "         [1., 1., 1.]]])\n",
            "3\n",
            "torch.Size([130, 150, 3])\n",
            "torch.float32\n"
          ]
        }
      ]
    },
    {
      "cell_type": "markdown",
      "source": [
        "##Sequence"
      ],
      "metadata": {
        "id": "CxPteUnouVyp"
      }
    },
    {
      "cell_type": "code",
      "source": [
        "sequence = torch.arange(start=0, end=20, step=3)\n",
        "\n",
        "print (sequence)\n",
        "print (sequence.ndim)\n",
        "print (sequence.shape)\n",
        "print (sequence.dtype)"
      ],
      "metadata": {
        "colab": {
          "base_uri": "https://localhost:8080/"
        },
        "id": "Bp_RBe6jtywE",
        "outputId": "f7272ab9-1ed8-4463-f6a8-df5c389fbdb1"
      },
      "execution_count": 150,
      "outputs": [
        {
          "output_type": "stream",
          "name": "stdout",
          "text": [
            "tensor([ 0,  3,  6,  9, 12, 15, 18])\n",
            "1\n",
            "torch.Size([7])\n",
            "torch.int64\n"
          ]
        }
      ]
    },
    {
      "cell_type": "code",
      "source": [
        "zeros.shape"
      ],
      "metadata": {
        "colab": {
          "base_uri": "https://localhost:8080/"
        },
        "id": "18HRn3_awXlf",
        "outputId": "d484efe2-f9a1-463b-8e18-e2168fb2b1e0"
      },
      "execution_count": 151,
      "outputs": [
        {
          "output_type": "execute_result",
          "data": {
            "text/plain": [
              "torch.Size([130, 150, 3])"
            ]
          },
          "metadata": {},
          "execution_count": 151
        }
      ]
    },
    {
      "cell_type": "markdown",
      "source": [
        "## Zeros Like & Ones Like\n",
        "\n"
      ],
      "metadata": {
        "id": "tC74tmL_w0_X"
      }
    },
    {
      "cell_type": "markdown",
      "source": [],
      "metadata": {
        "id": "hpHEq0--w0-A"
      }
    },
    {
      "cell_type": "code",
      "source": [
        "zeros_like= torch.zeros_like(input=zeros)"
      ],
      "metadata": {
        "id": "wEbSBFMCuqoN"
      },
      "execution_count": 152,
      "outputs": []
    },
    {
      "cell_type": "code",
      "source": [
        "zeros_like_numpy = zeros_like.numpy()\n",
        "print (zeros_like_numpy)\n",
        "\n",
        "cv2_imshow(zeros_like_numpy)"
      ],
      "metadata": {
        "colab": {
          "base_uri": "https://localhost:8080/",
          "height": 0
        },
        "id": "IMgpgOczwNc-",
        "outputId": "626abdb6-332c-438f-f1bd-6bf35ce7cab5"
      },
      "execution_count": 153,
      "outputs": [
        {
          "output_type": "stream",
          "name": "stdout",
          "text": [
            "[[[0. 0. 0.]\n",
            "  [0. 0. 0.]\n",
            "  [0. 0. 0.]\n",
            "  ...\n",
            "  [0. 0. 0.]\n",
            "  [0. 0. 0.]\n",
            "  [0. 0. 0.]]\n",
            "\n",
            " [[0. 0. 0.]\n",
            "  [0. 0. 0.]\n",
            "  [0. 0. 0.]\n",
            "  ...\n",
            "  [0. 0. 0.]\n",
            "  [0. 0. 0.]\n",
            "  [0. 0. 0.]]\n",
            "\n",
            " [[0. 0. 0.]\n",
            "  [0. 0. 0.]\n",
            "  [0. 0. 0.]\n",
            "  ...\n",
            "  [0. 0. 0.]\n",
            "  [0. 0. 0.]\n",
            "  [0. 0. 0.]]\n",
            "\n",
            " ...\n",
            "\n",
            " [[0. 0. 0.]\n",
            "  [0. 0. 0.]\n",
            "  [0. 0. 0.]\n",
            "  ...\n",
            "  [0. 0. 0.]\n",
            "  [0. 0. 0.]\n",
            "  [0. 0. 0.]]\n",
            "\n",
            " [[0. 0. 0.]\n",
            "  [0. 0. 0.]\n",
            "  [0. 0. 0.]\n",
            "  ...\n",
            "  [0. 0. 0.]\n",
            "  [0. 0. 0.]\n",
            "  [0. 0. 0.]]\n",
            "\n",
            " [[0. 0. 0.]\n",
            "  [0. 0. 0.]\n",
            "  [0. 0. 0.]\n",
            "  ...\n",
            "  [0. 0. 0.]\n",
            "  [0. 0. 0.]\n",
            "  [0. 0. 0.]]]\n"
          ]
        },
        {
          "output_type": "display_data",
          "data": {
            "text/plain": [
              "<PIL.Image.Image image mode=RGB size=150x130>"
            ],
            "image/png": "[encoded data removed]",
            "image/jpeg": "[encoded data removed]"
          },
          "metadata": {}
        }
      ]
    },
    {
      "cell_type": "code",
      "source": [
        "ones_like = torch.ones_like(input=ones)"
      ],
      "metadata": {
        "id": "WvKGk95mwSsH"
      },
      "execution_count": 154,
      "outputs": []
    },
    {
      "cell_type": "code",
      "source": [
        "ones_like_numpy = ones_like.numpy()\n",
        "print (ones_like_numpy)\n",
        "\n",
        "cv2_imshow(ones_like_numpy*255)"
      ],
      "metadata": {
        "colab": {
          "base_uri": "https://localhost:8080/",
          "height": 0
        },
        "id": "RpvkVmRMxakL",
        "outputId": "d9eee7ff-1c8e-428c-b542-24dcccf8c463"
      },
      "execution_count": 155,
      "outputs": [
        {
          "output_type": "stream",
          "name": "stdout",
          "text": [
            "[[[1. 1. 1.]\n",
            "  [1. 1. 1.]\n",
            "  [1. 1. 1.]\n",
            "  ...\n",
            "  [1. 1. 1.]\n",
            "  [1. 1. 1.]\n",
            "  [1. 1. 1.]]\n",
            "\n",
            " [[1. 1. 1.]\n",
            "  [1. 1. 1.]\n",
            "  [1. 1. 1.]\n",
            "  ...\n",
            "  [1. 1. 1.]\n",
            "  [1. 1. 1.]\n",
            "  [1. 1. 1.]]\n",
            "\n",
            " [[1. 1. 1.]\n",
            "  [1. 1. 1.]\n",
            "  [1. 1. 1.]\n",
            "  ...\n",
            "  [1. 1. 1.]\n",
            "  [1. 1. 1.]\n",
            "  [1. 1. 1.]]\n",
            "\n",
            " ...\n",
            "\n",
            " [[1. 1. 1.]\n",
            "  [1. 1. 1.]\n",
            "  [1. 1. 1.]\n",
            "  ...\n",
            "  [1. 1. 1.]\n",
            "  [1. 1. 1.]\n",
            "  [1. 1. 1.]]\n",
            "\n",
            " [[1. 1. 1.]\n",
            "  [1. 1. 1.]\n",
            "  [1. 1. 1.]\n",
            "  ...\n",
            "  [1. 1. 1.]\n",
            "  [1. 1. 1.]\n",
            "  [1. 1. 1.]]\n",
            "\n",
            " [[1. 1. 1.]\n",
            "  [1. 1. 1.]\n",
            "  [1. 1. 1.]\n",
            "  ...\n",
            "  [1. 1. 1.]\n",
            "  [1. 1. 1.]\n",
            "  [1. 1. 1.]]]\n"
          ]
        },
        {
          "output_type": "display_data",
          "data": {
            "text/plain": [
              "<PIL.Image.Image image mode=RGB size=150x130>"
            ],
            "image/png": "[encoded data removed]",
            "image/jpeg": "[encoded data removed]"
          },
          "metadata": {}
        }
      ]
    },
    {
      "cell_type": "markdown",
      "source": [
        "## Precision"
      ],
      "metadata": {
        "id": "HLRAOt-E2QWI"
      }
    },
    {
      "cell_type": "markdown",
      "source": [
        "Pytorch has different precision type for each type of data types. Precision is the amount of detail used to describe a number. If we want more amount of detail, we need more precise dtype.\n",
        "Floating point type :\n",
        "\n",
        "* Default dtype of a tensor is torch.float32 or torch.float\n",
        "\n",
        "* Half of default is torch.float16 or torch.half  \n",
        "\n",
        "* Double of default is torch.float64 or torch.double\n",
        "\n",
        "Integer dtype :\n",
        "\n",
        "* torch.int8\n",
        "\n",
        "* torch.int16 or torch.short\n",
        "\n",
        "* torch.int32 or torch.int\n",
        "\n",
        "* torch.int64 or torch.long\n",
        "\n",
        "Boolean dtype :\n",
        "\n",
        "* torch.bool"
      ],
      "metadata": {
        "id": "faAdn5EZ2UaA"
      }
    },
    {
      "cell_type": "markdown",
      "source": [
        "##Parameters"
      ],
      "metadata": {
        "id": "t2AUN8uayNFS"
      }
    },
    {
      "cell_type": "code",
      "source": [
        "int_tensor = torch.tensor([1, 2, 3, 4], dtype=None, device=None, requires_grad=False)\n",
        "float_tensor = torch.tensor([1.1, -2.3, 3.03, 4.123456], dtype=None, device=None, requires_grad=False)\n",
        "\n",
        "print(int_tensor)\n",
        "print(int_tensor.dtype)\n",
        "print(int_tensor.device)\n",
        "\n",
        "print(float_tensor)\n",
        "print(float_tensor.dtype)\n",
        "print(float_tensor.device)"
      ],
      "metadata": {
        "colab": {
          "base_uri": "https://localhost:8080/"
        },
        "id": "0up8ZDhRyNox",
        "outputId": "465f5945-1ee9-42df-e0f5-5a6df5dc39dd"
      },
      "execution_count": 158,
      "outputs": [
        {
          "output_type": "stream",
          "name": "stdout",
          "text": [
            "tensor([1, 2, 3, 4])\n",
            "torch.int64\n",
            "cpu\n",
            "tensor([ 1.1000, -2.3000,  3.0300,  4.1235])\n",
            "torch.float32\n",
            "cpu\n"
          ]
        }
      ]
    },
    {
      "cell_type": "code",
      "source": [
        "int_tensor_dtype = torch.tensor([1, 2, 3, 4], dtype=torch.int32)\n",
        "float_tensor_dtype = torch.tensor([1.1, -2.3, 3.03, 4.123456], dtype=torch.float64)\n",
        "\n",
        "print(int_tensor_dtype)\n",
        "print(int_tensor_dtype.dtype)\n",
        "print(int_tensor_dtype.device)\n",
        "\n",
        "print(float_tensor_dtype)\n",
        "print(float_tensor_dtype.dtype)\n",
        "print(float_tensor_dtype.device)"
      ],
      "metadata": {
        "colab": {
          "base_uri": "https://localhost:8080/"
        },
        "id": "ZyOrEJ2X7vhy",
        "outputId": "6119b762-5108-4822-86dc-d9adf3e45f54"
      },
      "execution_count": 159,
      "outputs": [
        {
          "output_type": "stream",
          "name": "stdout",
          "text": [
            "tensor([1, 2, 3, 4], dtype=torch.int32)\n",
            "torch.int32\n",
            "cpu\n",
            "tensor([ 1.1000, -2.3000,  3.0300,  4.1235], dtype=torch.float64)\n",
            "torch.float64\n",
            "cpu\n"
          ]
        }
      ]
    },
    {
      "cell_type": "markdown",
      "source": [
        "## Manipulations"
      ],
      "metadata": {
        "id": "qSGXod-Xx6FA"
      }
    },
    {
      "cell_type": "code",
      "source": [
        "tensor_x = torch.tensor([1, 2, 3, 4])"
      ],
      "metadata": {
        "id": "QL-brhFdx7eO"
      },
      "execution_count": 160,
      "outputs": []
    },
    {
      "cell_type": "code",
      "source": [
        "print (tensor_x + 10)\n",
        "print (torch.add(tensor_x, 10))"
      ],
      "metadata": {
        "colab": {
          "base_uri": "https://localhost:8080/"
        },
        "id": "jk3DNdZX9EGP",
        "outputId": "6b0862b5-9e63-46db-ad29-0186fbe6f043"
      },
      "execution_count": 167,
      "outputs": [
        {
          "output_type": "stream",
          "name": "stdout",
          "text": [
            "tensor([11, 12, 13, 14])\n",
            "tensor([11, 12, 13, 14])\n"
          ]
        }
      ]
    },
    {
      "cell_type": "code",
      "source": [
        "print (tensor_x - 10)\n",
        "print (torch.sub(tensor_x, 10))"
      ],
      "metadata": {
        "colab": {
          "base_uri": "https://localhost:8080/"
        },
        "id": "jFyXjuha9TMA",
        "outputId": "4c42bce2-c942-40b3-cb44-7aeb6ff8e307"
      },
      "execution_count": 168,
      "outputs": [
        {
          "output_type": "stream",
          "name": "stdout",
          "text": [
            "tensor([-9, -8, -7, -6])\n",
            "tensor([-9, -8, -7, -6])\n"
          ]
        }
      ]
    },
    {
      "cell_type": "code",
      "source": [
        "print (tensor_x * 10)\n",
        "print (torch.mul(tensor_x, 10))"
      ],
      "metadata": {
        "colab": {
          "base_uri": "https://localhost:8080/"
        },
        "id": "IDk5RwwE9g3n",
        "outputId": "ba7ac560-80d3-40f7-cacd-30ea94c0b5e7"
      },
      "execution_count": 169,
      "outputs": [
        {
          "output_type": "stream",
          "name": "stdout",
          "text": [
            "tensor([10, 20, 30, 40])\n",
            "tensor([10, 20, 30, 40])\n"
          ]
        }
      ]
    },
    {
      "cell_type": "code",
      "source": [
        "print (tensor_x / 10)\n",
        "print (torch.div(tensor_x, 10))"
      ],
      "metadata": {
        "colab": {
          "base_uri": "https://localhost:8080/"
        },
        "id": "GEHqFZeP9hdn",
        "outputId": "f4fdc972-39c7-4ae0-9169-ca54cda226db"
      },
      "execution_count": 170,
      "outputs": [
        {
          "output_type": "stream",
          "name": "stdout",
          "text": [
            "tensor([0.1000, 0.2000, 0.3000, 0.4000])\n",
            "tensor([0.1000, 0.2000, 0.3000, 0.4000])\n"
          ]
        }
      ]
    },
    {
      "cell_type": "code",
      "source": [
        "print (tensor_x * tensor_x)"
      ],
      "metadata": {
        "colab": {
          "base_uri": "https://localhost:8080/"
        },
        "id": "_EMH0f9l9iBQ",
        "outputId": "048e02af-eec2-455c-c21a-2b1b043b59b7"
      },
      "execution_count": 171,
      "outputs": [
        {
          "output_type": "stream",
          "name": "stdout",
          "text": [
            "tensor([ 1,  4,  9, 16])\n"
          ]
        }
      ]
    },
    {
      "cell_type": "code",
      "source": [
        "torch.matmul(tensor_x, tensor_x)"
      ],
      "metadata": {
        "colab": {
          "base_uri": "https://localhost:8080/"
        },
        "id": "4bARlHZE-AJt",
        "outputId": "5b5b93e6-94b8-4ea2-b278-faf6462c3148"
      },
      "execution_count": 172,
      "outputs": [
        {
          "output_type": "execute_result",
          "data": {
            "text/plain": [
              "tensor(30)"
            ]
          },
          "metadata": {},
          "execution_count": 172
        }
      ]
    },
    {
      "cell_type": "code",
      "source": [
        "tensor_a = torch.tensor([\n",
        "                          [1, 2, 3],\n",
        "                          [4, 5, 6]\n",
        "                        ])\n",
        "\n",
        "tensor_b = torch.tensor([\n",
        "                          [11, 12, 13],\n",
        "                          [14, 15, 16]\n",
        "                        ])"
      ],
      "metadata": {
        "id": "LOv2-Gxg-mCg"
      },
      "execution_count": 173,
      "outputs": []
    },
    {
      "cell_type": "code",
      "source": [
        "torch.matmul(tensor_a, tensor_b.T)\n",
        "# Before = (2 x 3), (2 x 3) => Can't multiply\n",
        "# After = (2 x 3), (3 x 2) => Can multiply also output shape will be = (2 x 2)"
      ],
      "metadata": {
        "colab": {
          "base_uri": "https://localhost:8080/"
        },
        "id": "8eKMTzeZAJwL",
        "outputId": "cf236918-f194-4578-ee35-04d9109b3869"
      },
      "execution_count": 177,
      "outputs": [
        {
          "output_type": "execute_result",
          "data": {
            "text/plain": [
              "tensor([[ 74,  92],\n",
              "        [182, 227]])"
            ]
          },
          "metadata": {},
          "execution_count": 177
        }
      ]
    },
    {
      "cell_type": "markdown",
      "source": [
        "## Aggregation"
      ],
      "metadata": {
        "id": "tijPHNLYAy54"
      }
    },
    {
      "cell_type": "code",
      "source": [
        "tensor_agg = torch.tensor([5, 9, 4, 2, 1, 12])"
      ],
      "metadata": {
        "id": "Dn003yHPAPEG"
      },
      "execution_count": 183,
      "outputs": []
    },
    {
      "cell_type": "code",
      "source": [
        "tensor_agg.min()"
      ],
      "metadata": {
        "colab": {
          "base_uri": "https://localhost:8080/"
        },
        "id": "MifJSrkeA97T",
        "outputId": "63ce09b3-a960-4b6b-8938-f840fd2d966e"
      },
      "execution_count": 184,
      "outputs": [
        {
          "output_type": "execute_result",
          "data": {
            "text/plain": [
              "tensor(1)"
            ]
          },
          "metadata": {},
          "execution_count": 184
        }
      ]
    },
    {
      "cell_type": "code",
      "source": [
        "tensor_agg.max()"
      ],
      "metadata": {
        "colab": {
          "base_uri": "https://localhost:8080/"
        },
        "id": "9KLLrJ3wBIF5",
        "outputId": "06b48c1d-cb12-47b7-b5b4-95a1fd0448cc"
      },
      "execution_count": 185,
      "outputs": [
        {
          "output_type": "execute_result",
          "data": {
            "text/plain": [
              "tensor(12)"
            ]
          },
          "metadata": {},
          "execution_count": 185
        }
      ]
    },
    {
      "cell_type": "code",
      "source": [
        "tensor_agg.dtype"
      ],
      "metadata": {
        "colab": {
          "base_uri": "https://localhost:8080/"
        },
        "id": "qgFevVYkBUdB",
        "outputId": "133f4e8a-1bd1-429f-f18d-7d3920bfe19f"
      },
      "execution_count": 186,
      "outputs": [
        {
          "output_type": "execute_result",
          "data": {
            "text/plain": [
              "torch.int64"
            ]
          },
          "metadata": {},
          "execution_count": 186
        }
      ]
    },
    {
      "cell_type": "code",
      "source": [
        "tensor_agg.type(torch.float32).mean() # (5 + 9 + 4 + 2 + 1 + 12) / 6 = 33 / 6 = 5.5"
      ],
      "metadata": {
        "colab": {
          "base_uri": "https://localhost:8080/"
        },
        "id": "qxZwgQ81BKYS",
        "outputId": "5f7b9588-f0e9-46ad-e132-aa468b3277aa"
      },
      "execution_count": 188,
      "outputs": [
        {
          "output_type": "execute_result",
          "data": {
            "text/plain": [
              "tensor(5.5000)"
            ]
          },
          "metadata": {},
          "execution_count": 188
        }
      ]
    },
    {
      "cell_type": "code",
      "source": [
        "tensor_agg.argmin() # Returns smallest number index"
      ],
      "metadata": {
        "colab": {
          "base_uri": "https://localhost:8080/"
        },
        "id": "g0_XmbzqBNxE",
        "outputId": "4ea1f52e-be01-43a7-ebc7-30cc2432b8e7"
      },
      "execution_count": 189,
      "outputs": [
        {
          "output_type": "execute_result",
          "data": {
            "text/plain": [
              "tensor(4)"
            ]
          },
          "metadata": {},
          "execution_count": 189
        }
      ]
    },
    {
      "cell_type": "code",
      "source": [
        "tensor_agg.argmax() # Returns largest number index"
      ],
      "metadata": {
        "colab": {
          "base_uri": "https://localhost:8080/"
        },
        "id": "hA1isqxlB6r_",
        "outputId": "b7756a0c-98ba-4e14-e2b4-4192ce75b04a"
      },
      "execution_count": 191,
      "outputs": [
        {
          "output_type": "execute_result",
          "data": {
            "text/plain": [
              "tensor(5)"
            ]
          },
          "metadata": {},
          "execution_count": 191
        }
      ]
    },
    {
      "cell_type": "code",
      "source": [
        "tensor_agg[tensor_agg.argmin()].item()"
      ],
      "metadata": {
        "colab": {
          "base_uri": "https://localhost:8080/"
        },
        "id": "r-wQat9JB9WT",
        "outputId": "eaaaf3d0-9b8c-4963-ba3e-a4661c254d52"
      },
      "execution_count": 194,
      "outputs": [
        {
          "output_type": "execute_result",
          "data": {
            "text/plain": [
              "1"
            ]
          },
          "metadata": {},
          "execution_count": 194
        }
      ]
    },
    {
      "cell_type": "code",
      "source": [
        "tensor_agg[tensor_agg.argmax()].item()"
      ],
      "metadata": {
        "colab": {
          "base_uri": "https://localhost:8080/"
        },
        "id": "VrBTIjEBCQKs",
        "outputId": "0ffc78b3-493c-4e7a-de7d-7a7a1b132f63"
      },
      "execution_count": 195,
      "outputs": [
        {
          "output_type": "execute_result",
          "data": {
            "text/plain": [
              "12"
            ]
          },
          "metadata": {},
          "execution_count": 195
        }
      ]
    }
  ]
}