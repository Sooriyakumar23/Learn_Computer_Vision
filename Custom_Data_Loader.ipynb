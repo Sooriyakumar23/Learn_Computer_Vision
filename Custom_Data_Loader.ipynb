{
  "nbformat": 4,
  "nbformat_minor": 0,
  "metadata": {
    "colab": {
      "provenance": []
    },
    "kernelspec": {
      "name": "python3",
      "display_name": "Python 3"
    },
    "language_info": {
      "name": "python"
    }
  },
  "cells": [
    {
      "cell_type": "markdown",
      "source": [
        "### Import Necessary Libraries"
      ],
      "metadata": {
        "id": "785SIqWaL97y"
      }
    },
    {
      "cell_type": "code",
      "execution_count": 2,
      "metadata": {
        "id": "TMGuO9zP8lQs"
      },
      "outputs": [],
      "source": [
        "from sklearn.datasets import load_iris\n",
        "import numpy as np\n",
        "from torch.utils.data import Dataset, DataLoader"
      ]
    },
    {
      "cell_type": "markdown",
      "source": [
        "### Create CSV with Data"
      ],
      "metadata": {
        "id": "2_hU4NKjMB3g"
      }
    },
    {
      "cell_type": "code",
      "source": [
        "iris = load_iris()\n",
        "\n",
        "data = np.c_[iris.data, iris.target]\n",
        "\n",
        "headers = iris.feature_names + ['target']\n",
        "\n",
        "np.savetxt('iris.csv', data, delimiter=',', header=','.join(headers), comments='', fmt='%s')\n"
      ],
      "metadata": {
        "id": "RjA3MJvvLdEr"
      },
      "execution_count": 3,
      "outputs": []
    },
    {
      "cell_type": "markdown",
      "source": [
        "### Custom Dataset"
      ],
      "metadata": {
        "id": "xogQZgq5MGcJ"
      }
    },
    {
      "cell_type": "code",
      "source": [
        "class CustomDataset(Dataset):\n",
        "\n",
        "    def __init__(self, filePath):\n",
        "        loaded_data = np.loadtxt(filePath, delimiter=',', skiprows=1)\n",
        "        self.data = loaded_data[:, :4]\n",
        "        self.label = loaded_data[:, 4]\n",
        "\n",
        "    def __len__(self):\n",
        "        return len(self.data)\n",
        "\n",
        "    def __getitem__(self, idx):\n",
        "        return self.data[idx], self.label[idx]"
      ],
      "metadata": {
        "id": "XZrMDGaP86ds"
      },
      "execution_count": 19,
      "outputs": []
    },
    {
      "cell_type": "code",
      "source": [
        "custom_dataset = CustomDataset('iris.csv')"
      ],
      "metadata": {
        "id": "CVmdQS22NDEY"
      },
      "execution_count": 25,
      "outputs": []
    },
    {
      "cell_type": "code",
      "source": [
        "len(custom_dataset)"
      ],
      "metadata": {
        "colab": {
          "base_uri": "https://localhost:8080/"
        },
        "id": "hxOE9v_DNnvk",
        "outputId": "dc680619-57d3-4cda-8ab1-dfde8f21c4e0"
      },
      "execution_count": 26,
      "outputs": [
        {
          "output_type": "execute_result",
          "data": {
            "text/plain": [
              "150"
            ]
          },
          "metadata": {},
          "execution_count": 26
        }
      ]
    },
    {
      "cell_type": "code",
      "source": [
        "custom_dataset[0]"
      ],
      "metadata": {
        "colab": {
          "base_uri": "https://localhost:8080/"
        },
        "id": "XdxIBJn_NqD7",
        "outputId": "7a2626fb-5c5b-4cb9-ae55-ca57a97569b8"
      },
      "execution_count": 27,
      "outputs": [
        {
          "output_type": "execute_result",
          "data": {
            "text/plain": [
              "(array([5.1, 3.5, 1.4, 0.2]), 0.0)"
            ]
          },
          "metadata": {},
          "execution_count": 27
        }
      ]
    },
    {
      "cell_type": "markdown",
      "source": [
        "### DataLoader"
      ],
      "metadata": {
        "id": "KW4RvOHyMJSk"
      }
    },
    {
      "cell_type": "code",
      "source": [
        "dataloader = DataLoader(dataset=custom_dataset, batch_size=4, shuffle=True)"
      ],
      "metadata": {
        "id": "tGfEvzb9Nw1O"
      },
      "execution_count": 31,
      "outputs": []
    },
    {
      "cell_type": "code",
      "source": [
        "print (dataloader)"
      ],
      "metadata": {
        "colab": {
          "base_uri": "https://localhost:8080/"
        },
        "id": "JS9F6xjeOUfu",
        "outputId": "d47588ab-7ffd-4f36-e65c-7621b0688302"
      },
      "execution_count": 32,
      "outputs": [
        {
          "output_type": "stream",
          "name": "stdout",
          "text": [
            "<torch.utils.data.dataloader.DataLoader object at 0x7cf37e7e5840>\n"
          ]
        }
      ]
    },
    {
      "cell_type": "markdown",
      "source": [
        "### Epoch and Iterations"
      ],
      "metadata": {
        "id": "cWFfOnlKML8x"
      }
    },
    {
      "cell_type": "code",
      "source": [
        "num_epochs = 2"
      ],
      "metadata": {
        "id": "sExo_5ssOdSK"
      },
      "execution_count": 33,
      "outputs": []
    },
    {
      "cell_type": "code",
      "source": [
        "for epoch in range(num_epochs):\n",
        "  for batch_idx, (input, target) in enumerate(dataloader):\n",
        "    print(f\"Epoch {epoch + 1}/{num_epochs}, Batch {batch_idx + 1}/{len(dataloader)}, Input Shape = {input.shape}, Target Shape = {target.shape}\")"
      ],
      "metadata": {
        "colab": {
          "base_uri": "https://localhost:8080/"
        },
        "id": "138RWWqRMOUb",
        "outputId": "acbfa688-e486-444b-9ed1-39a74189d7c2"
      },
      "execution_count": 35,
      "outputs": [
        {
          "output_type": "stream",
          "name": "stdout",
          "text": [
            "Epoch 1/2, Batch 1/38, Input Shape = torch.Size([4, 4]), Target Shape = torch.Size([4])\n",
            "Epoch 1/2, Batch 2/38, Input Shape = torch.Size([4, 4]), Target Shape = torch.Size([4])\n",
            "Epoch 1/2, Batch 3/38, Input Shape = torch.Size([4, 4]), Target Shape = torch.Size([4])\n",
            "Epoch 1/2, Batch 4/38, Input Shape = torch.Size([4, 4]), Target Shape = torch.Size([4])\n",
            "Epoch 1/2, Batch 5/38, Input Shape = torch.Size([4, 4]), Target Shape = torch.Size([4])\n",
            "Epoch 1/2, Batch 6/38, Input Shape = torch.Size([4, 4]), Target Shape = torch.Size([4])\n",
            "Epoch 1/2, Batch 7/38, Input Shape = torch.Size([4, 4]), Target Shape = torch.Size([4])\n",
            "Epoch 1/2, Batch 8/38, Input Shape = torch.Size([4, 4]), Target Shape = torch.Size([4])\n",
            "Epoch 1/2, Batch 9/38, Input Shape = torch.Size([4, 4]), Target Shape = torch.Size([4])\n",
            "Epoch 1/2, Batch 10/38, Input Shape = torch.Size([4, 4]), Target Shape = torch.Size([4])\n",
            "Epoch 1/2, Batch 11/38, Input Shape = torch.Size([4, 4]), Target Shape = torch.Size([4])\n",
            "Epoch 1/2, Batch 12/38, Input Shape = torch.Size([4, 4]), Target Shape = torch.Size([4])\n",
            "Epoch 1/2, Batch 13/38, Input Shape = torch.Size([4, 4]), Target Shape = torch.Size([4])\n",
            "Epoch 1/2, Batch 14/38, Input Shape = torch.Size([4, 4]), Target Shape = torch.Size([4])\n",
            "Epoch 1/2, Batch 15/38, Input Shape = torch.Size([4, 4]), Target Shape = torch.Size([4])\n",
            "Epoch 1/2, Batch 16/38, Input Shape = torch.Size([4, 4]), Target Shape = torch.Size([4])\n",
            "Epoch 1/2, Batch 17/38, Input Shape = torch.Size([4, 4]), Target Shape = torch.Size([4])\n",
            "Epoch 1/2, Batch 18/38, Input Shape = torch.Size([4, 4]), Target Shape = torch.Size([4])\n",
            "Epoch 1/2, Batch 19/38, Input Shape = torch.Size([4, 4]), Target Shape = torch.Size([4])\n",
            "Epoch 1/2, Batch 20/38, Input Shape = torch.Size([4, 4]), Target Shape = torch.Size([4])\n",
            "Epoch 1/2, Batch 21/38, Input Shape = torch.Size([4, 4]), Target Shape = torch.Size([4])\n",
            "Epoch 1/2, Batch 22/38, Input Shape = torch.Size([4, 4]), Target Shape = torch.Size([4])\n",
            "Epoch 1/2, Batch 23/38, Input Shape = torch.Size([4, 4]), Target Shape = torch.Size([4])\n",
            "Epoch 1/2, Batch 24/38, Input Shape = torch.Size([4, 4]), Target Shape = torch.Size([4])\n",
            "Epoch 1/2, Batch 25/38, Input Shape = torch.Size([4, 4]), Target Shape = torch.Size([4])\n",
            "Epoch 1/2, Batch 26/38, Input Shape = torch.Size([4, 4]), Target Shape = torch.Size([4])\n",
            "Epoch 1/2, Batch 27/38, Input Shape = torch.Size([4, 4]), Target Shape = torch.Size([4])\n",
            "Epoch 1/2, Batch 28/38, Input Shape = torch.Size([4, 4]), Target Shape = torch.Size([4])\n",
            "Epoch 1/2, Batch 29/38, Input Shape = torch.Size([4, 4]), Target Shape = torch.Size([4])\n",
            "Epoch 1/2, Batch 30/38, Input Shape = torch.Size([4, 4]), Target Shape = torch.Size([4])\n",
            "Epoch 1/2, Batch 31/38, Input Shape = torch.Size([4, 4]), Target Shape = torch.Size([4])\n",
            "Epoch 1/2, Batch 32/38, Input Shape = torch.Size([4, 4]), Target Shape = torch.Size([4])\n",
            "Epoch 1/2, Batch 33/38, Input Shape = torch.Size([4, 4]), Target Shape = torch.Size([4])\n",
            "Epoch 1/2, Batch 34/38, Input Shape = torch.Size([4, 4]), Target Shape = torch.Size([4])\n",
            "Epoch 1/2, Batch 35/38, Input Shape = torch.Size([4, 4]), Target Shape = torch.Size([4])\n",
            "Epoch 1/2, Batch 36/38, Input Shape = torch.Size([4, 4]), Target Shape = torch.Size([4])\n",
            "Epoch 1/2, Batch 37/38, Input Shape = torch.Size([4, 4]), Target Shape = torch.Size([4])\n",
            "Epoch 1/2, Batch 38/38, Input Shape = torch.Size([2, 4]), Target Shape = torch.Size([2])\n",
            "Epoch 2/2, Batch 1/38, Input Shape = torch.Size([4, 4]), Target Shape = torch.Size([4])\n",
            "Epoch 2/2, Batch 2/38, Input Shape = torch.Size([4, 4]), Target Shape = torch.Size([4])\n",
            "Epoch 2/2, Batch 3/38, Input Shape = torch.Size([4, 4]), Target Shape = torch.Size([4])\n",
            "Epoch 2/2, Batch 4/38, Input Shape = torch.Size([4, 4]), Target Shape = torch.Size([4])\n",
            "Epoch 2/2, Batch 5/38, Input Shape = torch.Size([4, 4]), Target Shape = torch.Size([4])\n",
            "Epoch 2/2, Batch 6/38, Input Shape = torch.Size([4, 4]), Target Shape = torch.Size([4])\n",
            "Epoch 2/2, Batch 7/38, Input Shape = torch.Size([4, 4]), Target Shape = torch.Size([4])\n",
            "Epoch 2/2, Batch 8/38, Input Shape = torch.Size([4, 4]), Target Shape = torch.Size([4])\n",
            "Epoch 2/2, Batch 9/38, Input Shape = torch.Size([4, 4]), Target Shape = torch.Size([4])\n",
            "Epoch 2/2, Batch 10/38, Input Shape = torch.Size([4, 4]), Target Shape = torch.Size([4])\n",
            "Epoch 2/2, Batch 11/38, Input Shape = torch.Size([4, 4]), Target Shape = torch.Size([4])\n",
            "Epoch 2/2, Batch 12/38, Input Shape = torch.Size([4, 4]), Target Shape = torch.Size([4])\n",
            "Epoch 2/2, Batch 13/38, Input Shape = torch.Size([4, 4]), Target Shape = torch.Size([4])\n",
            "Epoch 2/2, Batch 14/38, Input Shape = torch.Size([4, 4]), Target Shape = torch.Size([4])\n",
            "Epoch 2/2, Batch 15/38, Input Shape = torch.Size([4, 4]), Target Shape = torch.Size([4])\n",
            "Epoch 2/2, Batch 16/38, Input Shape = torch.Size([4, 4]), Target Shape = torch.Size([4])\n",
            "Epoch 2/2, Batch 17/38, Input Shape = torch.Size([4, 4]), Target Shape = torch.Size([4])\n",
            "Epoch 2/2, Batch 18/38, Input Shape = torch.Size([4, 4]), Target Shape = torch.Size([4])\n",
            "Epoch 2/2, Batch 19/38, Input Shape = torch.Size([4, 4]), Target Shape = torch.Size([4])\n",
            "Epoch 2/2, Batch 20/38, Input Shape = torch.Size([4, 4]), Target Shape = torch.Size([4])\n",
            "Epoch 2/2, Batch 21/38, Input Shape = torch.Size([4, 4]), Target Shape = torch.Size([4])\n",
            "Epoch 2/2, Batch 22/38, Input Shape = torch.Size([4, 4]), Target Shape = torch.Size([4])\n",
            "Epoch 2/2, Batch 23/38, Input Shape = torch.Size([4, 4]), Target Shape = torch.Size([4])\n",
            "Epoch 2/2, Batch 24/38, Input Shape = torch.Size([4, 4]), Target Shape = torch.Size([4])\n",
            "Epoch 2/2, Batch 25/38, Input Shape = torch.Size([4, 4]), Target Shape = torch.Size([4])\n",
            "Epoch 2/2, Batch 26/38, Input Shape = torch.Size([4, 4]), Target Shape = torch.Size([4])\n",
            "Epoch 2/2, Batch 27/38, Input Shape = torch.Size([4, 4]), Target Shape = torch.Size([4])\n",
            "Epoch 2/2, Batch 28/38, Input Shape = torch.Size([4, 4]), Target Shape = torch.Size([4])\n",
            "Epoch 2/2, Batch 29/38, Input Shape = torch.Size([4, 4]), Target Shape = torch.Size([4])\n",
            "Epoch 2/2, Batch 30/38, Input Shape = torch.Size([4, 4]), Target Shape = torch.Size([4])\n",
            "Epoch 2/2, Batch 31/38, Input Shape = torch.Size([4, 4]), Target Shape = torch.Size([4])\n",
            "Epoch 2/2, Batch 32/38, Input Shape = torch.Size([4, 4]), Target Shape = torch.Size([4])\n",
            "Epoch 2/2, Batch 33/38, Input Shape = torch.Size([4, 4]), Target Shape = torch.Size([4])\n",
            "Epoch 2/2, Batch 34/38, Input Shape = torch.Size([4, 4]), Target Shape = torch.Size([4])\n",
            "Epoch 2/2, Batch 35/38, Input Shape = torch.Size([4, 4]), Target Shape = torch.Size([4])\n",
            "Epoch 2/2, Batch 36/38, Input Shape = torch.Size([4, 4]), Target Shape = torch.Size([4])\n",
            "Epoch 2/2, Batch 37/38, Input Shape = torch.Size([4, 4]), Target Shape = torch.Size([4])\n",
            "Epoch 2/2, Batch 38/38, Input Shape = torch.Size([2, 4]), Target Shape = torch.Size([2])\n"
          ]
        }
      ]
    }
  ]
}